{
 "cells": [
  {
   "cell_type": "markdown",
   "id": "abe017a1",
   "metadata": {},
   "source": [
    "## 3dshapes exploration\n",
    "\n",
    "* the images are 64x64, not 224x224 as the pretrained ResNet expects. \n",
    "* 480.000 images: ground truth factors: shape[4], scale[8], orientation[15], floor colour[10], wall colour[10], object colour[10]\n",
    "\n",
    "The notebook is structured as follows: first, there is a visual exploration of the dataset using the code from the repo. Second, there is an initial stab at creating captions for the images in the dataset. Third, there is an exploration of embedding these images with ResNet50 used in the main experiment. At the end, there are some misc notes and some exploration of the grammatical properties of the MS COCO captions."
   ]
  },
  {
   "cell_type": "code",
   "execution_count": 1,
   "id": "9d2f02fd",
   "metadata": {},
   "outputs": [],
   "source": [
    "# try loading the data\n",
    "# code belo from: \n",
    "# https://github.com/deepmind/3d-shapes/blob/master/3dshapes_loading_example.ipynb\n",
    "\n",
    "\n",
    "from matplotlib import pyplot as plt\n",
    "import numpy as np\n",
    "import h5py\n",
    "from nltk import CFG\n",
    "from nltk.parse.generate import generate\n"
   ]
  },
  {
   "cell_type": "code",
   "execution_count": 2,
   "id": "38bbd01c",
   "metadata": {},
   "outputs": [
    {
     "name": "stdout",
     "output_type": "stream",
     "text": [
      "<KeysViewHDF5 ['images', 'labels']>\n"
     ]
    }
   ],
   "source": [
    "# load dataset\n",
    "dataset = h5py.File('../../mSc-thesis/data/3dshapes.h5', 'r')\n",
    "print(dataset.keys())\n",
    "images = dataset['images']  # array shape [480000,64,64,3], uint8 in range(256)\n",
    "labels = dataset['labels']  # array shape [480000,6], float64\n",
    "image_shape = images.shape[1:]  # [64,64,3]\n",
    "label_shape = labels.shape[1:]  # [6]\n",
    "n_samples = labels.shape[0]  # 10*10*10*8*4*15=480000\n",
    "\n",
    "_FACTORS_IN_ORDER = ['floor_hue', 'wall_hue', 'object_hue', 'scale', 'shape',\n",
    "                     'orientation']\n",
    "_NUM_VALUES_PER_FACTOR = {'floor_hue': 10, 'wall_hue': 10, 'object_hue': 10, \n",
    "                          'scale': 8, 'shape': 4, 'orientation': 15}"
   ]
  },
  {
   "cell_type": "code",
   "execution_count": 60,
   "id": "b5a37266",
   "metadata": {},
   "outputs": [
    {
     "data": {
      "text/plain": [
       "array([-30.        , -25.71428571, -21.42857143, -17.14285714,\n",
       "       -12.85714286,  -8.57142857,  -4.28571429,   0.        ,\n",
       "         4.28571429,   8.57142857,  12.85714286,  17.14285714,\n",
       "        21.42857143,  25.71428571,  30.        ])"
      ]
     },
     "execution_count": 60,
     "metadata": {},
     "output_type": "execute_result"
    }
   ],
   "source": [
    "# len(labels)\n",
    "# explore unique values for each dimension for creating keys in the grammar below\n",
    "np.unique(labels[:, 5])"
   ]
  },
  {
   "cell_type": "code",
   "execution_count": 3,
   "id": "a9777e94",
   "metadata": {},
   "outputs": [],
   "source": [
    "# methods for sampling unconditionally/conditionally on a given factor\n",
    "def get_index(factors):\n",
    "  \"\"\" Converts factors to indices in range(num_data)\n",
    "  Args:\n",
    "    factors: np array shape [6,batch_size].\n",
    "             factors[i]=factors[i,:] takes integer values in \n",
    "             range(_NUM_VALUES_PER_FACTOR[_FACTORS_IN_ORDER[i]]).\n",
    "\n",
    "  Returns:\n",
    "    indices: np array shape [batch_size].\n",
    "  \"\"\"\n",
    "  indices = 0\n",
    "  base = 1\n",
    "  for factor, name in reversed(list(enumerate(_FACTORS_IN_ORDER))):\n",
    "    indices += factors[factor] * base\n",
    "    base *= _NUM_VALUES_PER_FACTOR[name]\n",
    "    \n",
    "  return indices\n",
    "\n",
    "\n",
    "def sample_random_batch(batch_size):\n",
    "  \"\"\" Samples a random batch of images.\n",
    "  Args:\n",
    "    batch_size: number of images to sample.\n",
    "\n",
    "  Returns:\n",
    "    batch: images shape [batch_size,64,64,3].\n",
    "  \"\"\"\n",
    "#   indices = np.random.choice(n_samples, batch_size)\n",
    "  indices = np.arange(10, 35)\n",
    "  ims = []\n",
    "  for ind in indices:\n",
    "    im = images[ind]\n",
    "    im = np.asarray(im)\n",
    "    ims.append(im)\n",
    "  ims = np.stack(ims, axis=0)\n",
    "  ims = ims / 255. # normalise values to range [0,1]\n",
    "  ims = ims.astype(np.float32)\n",
    "  return ims.reshape([batch_size, 64, 64, 3])\n",
    "\n",
    "\n",
    "def sample_batch(batch_size, fixed_factor, fixed_factor_value):\n",
    "  \"\"\" Samples a batch of images with fixed_factor=fixed_factor_value, but with\n",
    "      the other factors varying randomly.\n",
    "  Args:\n",
    "    batch_size: number of images to sample.\n",
    "    fixed_factor: index of factor that is fixed in range(6).\n",
    "    fixed_factor_value: integer value of factor that is fixed \n",
    "      in range(_NUM_VALUES_PER_FACTOR[_FACTORS_IN_ORDER[fixed_factor]]).\n",
    "\n",
    "  Returns:\n",
    "    batch: images shape [batch_size,64,64,3]\n",
    "  \"\"\"\n",
    "  factors = np.zeros([len(_FACTORS_IN_ORDER), batch_size],\n",
    "                     dtype=np.int32)\n",
    "  for factor, name in enumerate(_FACTORS_IN_ORDER):\n",
    "    num_choices = _NUM_VALUES_PER_FACTOR[name]\n",
    "    factors[factor] = np.random.choice(num_choices, batch_size)\n",
    "  factors[fixed_factor] = fixed_factor_value\n",
    "  indices = get_index(factors)\n",
    "  ims = []\n",
    "  for ind in indices:\n",
    "    im = images[ind]\n",
    "    im = np.asarray(im)\n",
    "    ims.append(im)\n",
    "  ims = np.stack(ims, axis=0)\n",
    "  ims = ims / 255. # normalise values to range [0,1]\n",
    "  ims = ims.astype(np.float32)\n",
    "  return ims.reshape([batch_size, 64, 64, 3])"
   ]
  },
  {
   "cell_type": "code",
   "execution_count": 4,
   "id": "1ce6b17c",
   "metadata": {},
   "outputs": [],
   "source": [
    "def show_images_grid(imgs_, num_images=25):\n",
    "  ncols = int(np.ceil(num_images**0.5))\n",
    "  nrows = int(np.ceil(num_images / ncols))\n",
    "  _, axes = plt.subplots(ncols, nrows, figsize=(nrows * 3, ncols * 3))\n",
    "  axes = axes.flatten()\n",
    "\n",
    "  for ax_i, ax in enumerate(axes):\n",
    "    if ax_i < num_images:\n",
    "      ax.imshow(imgs_[ax_i], cmap='Greys_r', interpolation='nearest')\n",
    "      ax.set_xticks([])\n",
    "      ax.set_yticks([])\n",
    "    else:\n",
    "      ax.axis('off')"
   ]
  },
  {
   "cell_type": "code",
   "execution_count": 5,
   "id": "ddae935f",
   "metadata": {},
   "outputs": [
    {
     "data": {
      "image/png": "[encoded data removed]",
      "text/plain": [
       "<Figure size 1080x1080 with 25 Axes>"
      ]
     },
     "metadata": {},
     "output_type": "display_data"
    }
   ],
   "source": [
    "# random images\n",
    "batch_size = 25\n",
    "img_batch = sample_random_batch(batch_size)\n",
    "\n",
    "show_images_grid(img_batch)\n",
    "\n"
   ]
  },
  {
   "cell_type": "code",
   "execution_count": 18,
   "id": "42a53a80",
   "metadata": {},
   "outputs": [
    {
     "data": {
      "image/png": "[encoded data removed]",
      "text/plain": [
       "<Figure size 1080x1080 with 25 Axes>"
      ]
     },
     "metadata": {},
     "output_type": "display_data"
    }
   ],
   "source": [
    "# systematically explore the variations:\n",
    "# hue : 0=red, 1=orange, 2=yellow, 3=light green, 4=dark green, 5=cyan, 6=medium blue, 7= dark blue, 8=purple, 9=pink \n",
    "# shape: 0=cube, 1=cylinder, 2=sphere , 3=pill, 4=cube\n",
    "# scale: 0=small, --> 7=huge\n",
    "# orientation: orientation of room (rotation, visibility of corner)\n",
    "\n",
    "\n",
    "batch_size = 25\n",
    "fixed_factor_str = 'orientation' #@param ['floor_hue', 'wall_hue', 'object_hue', 'scale', 'shape', 'orientation']\n",
    "fixed_factor_value = 9# first value of floor hue - red\n",
    "fixed_factor = _FACTORS_IN_ORDER.index(fixed_factor_str)  # floor hue\n",
    "img_batch = sample_batch(batch_size, fixed_factor, fixed_factor_value)\n",
    "# sample_batch(batch_size, fixed_factor, fixed_factor_value)\n",
    "show_images_grid(img_batch)"
   ]
  },
  {
   "cell_type": "code",
   "execution_count": 55,
   "id": "fe058e36",
   "metadata": {},
   "outputs": [
    {
     "data": {
      "text/plain": [
       "(480000, 6)"
      ]
     },
     "execution_count": 55,
     "metadata": {},
     "output_type": "execute_result"
    }
   ],
   "source": [
    "labels.shape"
   ]
  },
  {
   "cell_type": "markdown",
   "id": "cbd9945e",
   "metadata": {},
   "source": [
    "## Create an initial grammar and loop for generating captions\n",
    "\n",
    "The labels have the shape (480000, 6), each entry being a list of values for each of the 6 dimensions. The number of unique values for each of the dimensions matches the numbers listed in `_NUM_VALUES_PER_FACTOR`. To get the correct vocabulary for each particular value, we can just create a dictionary indexed with the unique values with lists of correct production rules for each situation. For instance:"
   ]
  },
  {
   "cell_type": "code",
   "execution_count": 19,
   "id": "23ae0744",
   "metadata": {},
   "outputs": [
    {
     "data": {
      "text/plain": [
       "[\"WALL_HUE -> 'red'\"]"
      ]
     },
     "execution_count": 19,
     "metadata": {},
     "output_type": "execute_result"
    }
   ],
   "source": [
    "# 0=red, 1=orange, 2=yellow, 3=light green, 4=dark green, 5=cyan, 6=medium blue, 7= dark blue, 8=purple, 9=pink\n",
    "\n",
    "dict_factor_rules = {\n",
    "    \"floor_hue\": {\n",
    "    0: [\"FLOOR_HUE -> 'red'\"], # more synonyms / rules can be added here\n",
    "    0.1: [\"FLOOR_HUE -> 'orange'\"],\n",
    "    0.2: [\"FLOOR_HUE -> 'yellow'\"],\n",
    "    0.3: [\"FLOOR_HUE -> 'light green'\"],\n",
    "    0.4: [\"FLOOR_HUE -> 'dark green'\"],\n",
    "    0.5: [\"FLOOR_HUE -> 'cyan'\"],\n",
    "    0.6: [\"FLOOR_HUE -> 'medium blue'\"],\n",
    "    0.7: [\"FLOOR_HUE -> 'dark blue'\"],\n",
    "    0.8: [\"FLOOR_HUE -> 'purple'\"],\n",
    "    0.9: [\"FLOOR_HUE -> 'pink'\"]\n",
    "    },\n",
    "    \"wall_hue\": {\n",
    "    0: [\"WALL_HUE -> 'red'\"], # more synonyms / rules can be added here\n",
    "    0.1: [\"WALL_HUE -> 'orange'\"],\n",
    "    0.2: [\"WALL_HUE -> 'yellow'\"],\n",
    "    0.3: [\"WALL_HUE -> 'light green'\"],\n",
    "    0.4: [\"WALL_HUE -> 'dark green'\"],\n",
    "    0.5: [\"WALL_HUE -> 'cyan'\"],\n",
    "    0.6: [\"WALL_HUE -> 'medium blue'\"],\n",
    "    0.7: [\"WALL_HUE -> 'dark blue'\"],\n",
    "    0.8: [\"WALL_HUE -> 'purple'\"],\n",
    "    0.9: [\"WALL_HUE -> 'pink'\"]\n",
    "    },\n",
    "    \"object_hue\": {\n",
    "    0: [\"OBJECT_HUE -> 'red'\"], # more synonyms / rules can be added here\n",
    "    0.1: [\"OBJECT_HUE -> 'orange'\"],\n",
    "    0.2: [\"OBJECT_HUE -> 'yellow'\"],\n",
    "    0.3: [\"OBJECT_HUE -> 'light green'\"],\n",
    "    0.4: [\"OBJECT_HUE -> 'dark green'\"],\n",
    "    0.5: [\"OBJECT_HUE -> 'cyan'\"],\n",
    "    0.6: [\"OBJECT_HUE -> 'medium blue'\"],\n",
    "    0.7: [\"OBJECT_HUE -> 'dark blue'\"],\n",
    "    0.8: [\"OBJECT_HUE -> 'purple'\"],\n",
    "    0.9: [\"OBJECT_HUE -> 'pink'\"]\n",
    "    },\n",
    "    \"scale\": {\n",
    "        0.75: [\"SCALE -> 'tiny'\", \"SCALE -> 'very small'\"],\n",
    "        0.82142857: [\"SCALE -> 'small'\"],\n",
    "        0.89285714: [\"SCALE -> 'medium'\"],\n",
    "        0.96428571: [\"SCALE -> 'middle-sized'\"],\n",
    "        1.03571429: [\"SCALE -> 'big'\"],\n",
    "        1.10714286: [\"SCALE -> 'large'\"], \n",
    "        1.17857143: [\"SCALE -> 'huge'\"],\n",
    "        1.25: [\"SCALE -> 'giant'\", \"SCALE -> 'very big'\"]\n",
    "    },\n",
    "    \"shape\": { #0=cube, 1=cylinder, 2=sphere , 3=pill\n",
    "        0: [\"SHAPE -> 'cube'\", \"SHAPE -> 'block'\"],\n",
    "        1: [\"SHAPE -> 'cylinder'\", \"SHAPE -> 'barrel'\"],\n",
    "        2: [\"SHAPE -> 'sphere'\", \"SHAPE -> 'ball'\"],\n",
    "        3: [\"SHAPE -> 'pill'\", \"SHAPE -> 'capsule'\"]\n",
    "    },\n",
    "    \"orientation\": { # TODO find better descriptions\n",
    "        -30: [\"ORIENTATION -> 'in the right corner'\", \"ORIENTATION -> 'on the right'\"],\n",
    "        -25.714285714285715: [\"ORIENTATION -> 'in the right corner'\", \"ORIENTATION -> 'on the right'\"],\n",
    "        -21.42857142857143: [\"ORIENTATION -> 'near the right corner'\", \"ORIENTATION -> 'close to the right side'\"],\n",
    "        -17.142857142857142: [\"ORIENTATION -> 'somewhat close to the right corner'\", \"ORIENTATION -> 'somewhat close to the right side'\"],\n",
    "        -12.857142857142858: [\"ORIENTATION -> 'close to the middle'\", \"ORIENTATION -> 'nearly in the middle'\"],\n",
    "        -8.571428571428573: [\"ORIENTATION -> 'nearly in the middle'\", \"ORIENTATION -> 'close to the middle'\"], \n",
    "        -4.285714285714285: [\"ORIENTATION -> 'in the middle'\", \"ORIENTATION -> 'in the middle of the room'\"],   \n",
    "        0: [\"ORIENTATION -> 'in the middle'\", \"ORIENTATION -> 'in the middle of the room'\"],\n",
    "        4.285714285714285: [\"ORIENTATION -> 'in the middle'\", \"ORIENTATION -> 'in the middle of the room'\"],\n",
    "        8.57142857142857: [\"ORIENTATION -> 'nearly in the middle'\", \"ORIENTATION -> 'close to the middle'\"],\n",
    "        12.857142857142858: [\"ORIENTATION -> 'nearly in the middle'\", \"ORIENTATION -> 'close to the middle'\"],  \n",
    "        17.142857142857142: [\"ORIENTATION -> 'somewhat close to the left corner'\", \"ORIENTATION -> 'somewhat close to the left side'\"],\n",
    "        21.42857142857143: [\"ORIENTATION -> 'near the left corner'\", \"ORIENTATION -> 'close to the left side'\"],\n",
    "        25.714285714285715: [\"ORIENTATION -> 'on the left'\", \"ORIENTATION -> 'in the left corner'\"],\n",
    "        30: [\"ORIENTATION -> 'in the left corner'\", \"ORIENTATION -> 'on the left'\"],\n",
    "    }\n",
    "\n",
    "}\n",
    "# test retrieving the rule, color being the e g the 0-th entry of the label\n",
    "dict_factor_rules[\"wall_hue\"][labels[0][0]]"
   ]
  },
  {
   "cell_type": "code",
   "execution_count": 20,
   "id": "c85976d4",
   "metadata": {},
   "outputs": [],
   "source": [
    "# key loop for iterating over the types of images and creating the annotations\n",
    "def create_3dshapes_captions(images, labels, grammar_file, factor_rules, factors, num_captions=2):\n",
    "    \"\"\"\n",
    "    Generate natural language captions for the 3dshapes dataset.\n",
    "    \n",
    "    Arguments:\n",
    "    --------\n",
    "        images: h5.Dataset\n",
    "            Loaded list of images.\n",
    "        labels: h5.Dataset\n",
    "            Loaded list of image labels (same length as images)\n",
    "        grammar_file: str\n",
    "            Path to txt file containing base CFG to generate captions from\n",
    "        factor_rules: dict\n",
    "            Nested dictionary of all specific rules by-value for each factor\n",
    "        factors: list\n",
    "            List of factors in order\n",
    "        num_captions: int\n",
    "            Number of captions to generate per image (if allowed by grammar)\n",
    "    Returns:\n",
    "    -------\n",
    "        ds: dict\n",
    "            Dictionary keyed with image indices, holding image ndarrays and captions.\n",
    "\"\"\"\n",
    "    ds = {}\n",
    "    # read base grammar\n",
    "    with open(grammar_file, 'r') as f:\n",
    "        base_grammar = f.readlines()\n",
    "        base_grammar = [s.replace(\"\\n\", \"\").strip() for s in base_grammar]\n",
    "\n",
    "        \n",
    "    for i in range(len(labels)):\n",
    "        lbl = labels[i]\n",
    "        # TODO make this smarter by applying this base type of icounter increase as in the get_index function\n",
    "        # iterate over the single variation dimensions\n",
    "        for x in range(lbl.shape[0]):\n",
    "            # get the factor for accessing the correct grammar contents\n",
    "            fctr = factors[x]\n",
    "            # get the rules key of interest\n",
    "            fctr_idx = lbl[x]\n",
    "            fctr_rules = factor_rules[fctr][fctr_idx]\n",
    "            # filter out the rule that changes now if it was already in the grammar\n",
    "            try:\n",
    "                base_grammar = list(filter(lambda s: str(fctr.upper() + \" ->\") not in s, base_grammar)) # use the factor names as preterminal symbols for easier retrieval\n",
    "            except:\n",
    "                pass\n",
    "            base_grammar.extend(fctr_rules)\n",
    "            # invoke grammar\n",
    "            cfg = CFG.fromstring(base_grammar)\n",
    "            # get captions for the image\n",
    "            img_caps_generator = generate(cfg, n = num_captions)\n",
    "            img_caps = [\" \".join(s) for s in img_caps_generator]\n",
    "            # save\n",
    "            ds[i] = {\n",
    "                \"img\": np.asarray(images[i]),\n",
    "                \"captions\": img_caps,\n",
    "            }\n",
    "            \n",
    "    return ds"
   ]
  },
  {
   "cell_type": "code",
   "execution_count": 21,
   "id": "702cd9bd",
   "metadata": {},
   "outputs": [],
   "source": [
    "test_ds = create_3dshapes_captions(\n",
    "    images[:10], labels[:10], \n",
    "    grammar_file=\"test_grammar.txt\", # just for testing purposes, it obviously isn't a correct CFG\n",
    "    factor_rules=dict_factor_rules, \n",
    "    factors=_FACTORS_IN_ORDER,\n",
    "    num_captions=2)"
   ]
  },
  {
   "cell_type": "code",
   "execution_count": 22,
   "id": "7c48600b",
   "metadata": {},
   "outputs": [
    {
     "data": {
      "text/plain": [
       "{0: {'img': array([[[153, 226, 249],\n",
       "          [153, 226, 249],\n",
       "          [153, 226, 249],\n",
       "          ...,\n",
       "          [153, 226, 249],\n",
       "          [153, 226, 249],\n",
       "          [153, 226, 249]],\n",
       "  \n",
       "         [[153, 226, 249],\n",
       "          [153, 226, 249],\n",
       "          [153, 226, 249],\n",
       "          ...,\n",
       "          [153, 226, 249],\n",
       "          [153, 226, 249],\n",
       "          [153, 226, 249]],\n",
       "  \n",
       "         [[153, 226, 249],\n",
       "          [153, 226, 249],\n",
       "          [153, 226, 249],\n",
       "          ...,\n",
       "          [153, 226, 249],\n",
       "          [153, 226, 249],\n",
       "          [153, 226, 249]],\n",
       "  \n",
       "         ...,\n",
       "  \n",
       "         [[255,   0,   0],\n",
       "          [255,   0,   0],\n",
       "          [255,   0,   0],\n",
       "          ...,\n",
       "          [235,   0,   0],\n",
       "          [237,   0,   0],\n",
       "          [236,   0,   0]],\n",
       "  \n",
       "         [[255,   0,   0],\n",
       "          [255,   0,   0],\n",
       "          [255,   0,   0],\n",
       "          ...,\n",
       "          [230,   0,   0],\n",
       "          [225,   0,   0],\n",
       "          [231,   0,   0]],\n",
       "  \n",
       "         [[255,   0,   0],\n",
       "          [255,   0,   0],\n",
       "          [255,   0,   0],\n",
       "          ...,\n",
       "          [230,   0,   0],\n",
       "          [231,   0,   0],\n",
       "          [240,   0,   0]]], dtype=uint8),\n",
       "  'captions': ['there is a tiny red cube in the right corner in front of a red wall on red floor',\n",
       "   'there is a tiny red cube on the right in front of a red wall on red floor']},\n",
       " 1: {'img': array([[[153, 226, 249],\n",
       "          [153, 226, 249],\n",
       "          [153, 226, 249],\n",
       "          ...,\n",
       "          [153, 226, 249],\n",
       "          [153, 226, 249],\n",
       "          [153, 226, 249]],\n",
       "  \n",
       "         [[153, 226, 249],\n",
       "          [153, 226, 249],\n",
       "          [153, 226, 249],\n",
       "          ...,\n",
       "          [153, 226, 249],\n",
       "          [153, 226, 249],\n",
       "          [153, 226, 249]],\n",
       "  \n",
       "         [[153, 226, 249],\n",
       "          [153, 226, 249],\n",
       "          [153, 226, 249],\n",
       "          ...,\n",
       "          [153, 226, 249],\n",
       "          [153, 226, 249],\n",
       "          [153, 226, 249]],\n",
       "  \n",
       "         ...,\n",
       "  \n",
       "         [[255,   0,   0],\n",
       "          [255,   0,   0],\n",
       "          [255,   0,   0],\n",
       "          ...,\n",
       "          [238,   0,   0],\n",
       "          [237,   0,   0],\n",
       "          [235,   0,   0]],\n",
       "  \n",
       "         [[255,   0,   0],\n",
       "          [255,   0,   0],\n",
       "          [255,   0,   0],\n",
       "          ...,\n",
       "          [236,   0,   0],\n",
       "          [235,   0,   0],\n",
       "          [233,   0,   0]],\n",
       "  \n",
       "         [[255,   0,   0],\n",
       "          [255,   0,   0],\n",
       "          [255,   0,   0],\n",
       "          ...,\n",
       "          [228,   0,   0],\n",
       "          [229,   0,   0],\n",
       "          [227,   0,   0]]], dtype=uint8),\n",
       "  'captions': ['there is a tiny red cube in the right corner in front of a red wall on red floor',\n",
       "   'there is a tiny red cube on the right in front of a red wall on red floor']},\n",
       " 2: {'img': array([[[153, 226, 249],\n",
       "          [153, 226, 249],\n",
       "          [153, 226, 249],\n",
       "          ...,\n",
       "          [153, 226, 249],\n",
       "          [153, 226, 249],\n",
       "          [153, 226, 249]],\n",
       "  \n",
       "         [[153, 226, 249],\n",
       "          [153, 226, 249],\n",
       "          [153, 226, 249],\n",
       "          ...,\n",
       "          [153, 226, 249],\n",
       "          [153, 226, 249],\n",
       "          [153, 226, 249]],\n",
       "  \n",
       "         [[153, 226, 249],\n",
       "          [153, 226, 249],\n",
       "          [153, 226, 249],\n",
       "          ...,\n",
       "          [153, 226, 249],\n",
       "          [153, 226, 249],\n",
       "          [153, 226, 249]],\n",
       "  \n",
       "         ...,\n",
       "  \n",
       "         [[255,   0,   0],\n",
       "          [255,   0,   0],\n",
       "          [255,   0,   0],\n",
       "          ...,\n",
       "          [235,   0,   0],\n",
       "          [233,   0,   0],\n",
       "          [228,   0,   0]],\n",
       "  \n",
       "         [[255,   0,   0],\n",
       "          [255,   0,   0],\n",
       "          [255,   0,   0],\n",
       "          ...,\n",
       "          [236,   0,   0],\n",
       "          [234,   0,   0],\n",
       "          [233,   0,   0]],\n",
       "  \n",
       "         [[255,   0,   0],\n",
       "          [255,   0,   0],\n",
       "          [255,   0,   0],\n",
       "          ...,\n",
       "          [236,   0,   0],\n",
       "          [234,   0,   0],\n",
       "          [233,   0,   0]]], dtype=uint8),\n",
       "  'captions': ['there is a tiny red cube near the right corner in front of a red wall on red floor',\n",
       "   'there is a tiny red cube close to the right side in front of a red wall on red floor']},\n",
       " 3: {'img': array([[[153, 226, 249],\n",
       "          [153, 226, 249],\n",
       "          [153, 226, 249],\n",
       "          ...,\n",
       "          [153, 226, 249],\n",
       "          [153, 226, 249],\n",
       "          [153, 226, 249]],\n",
       "  \n",
       "         [[153, 226, 249],\n",
       "          [153, 226, 249],\n",
       "          [153, 226, 249],\n",
       "          ...,\n",
       "          [153, 226, 249],\n",
       "          [153, 226, 249],\n",
       "          [153, 226, 249]],\n",
       "  \n",
       "         [[153, 226, 249],\n",
       "          [153, 226, 249],\n",
       "          [153, 226, 249],\n",
       "          ...,\n",
       "          [153, 226, 249],\n",
       "          [153, 226, 249],\n",
       "          [153, 226, 249]],\n",
       "  \n",
       "         ...,\n",
       "  \n",
       "         [[255,   0,   0],\n",
       "          [255,   0,   0],\n",
       "          [255,   0,   0],\n",
       "          ...,\n",
       "          [221,   0,   0],\n",
       "          [223,   0,   0],\n",
       "          [230,   0,   0]],\n",
       "  \n",
       "         [[255,   0,   0],\n",
       "          [255,   0,   0],\n",
       "          [255,   0,   0],\n",
       "          ...,\n",
       "          [234,   0,   0],\n",
       "          [228,   0,   0],\n",
       "          [223,   0,   0]],\n",
       "  \n",
       "         [[255,   0,   0],\n",
       "          [255,   0,   0],\n",
       "          [255,   0,   0],\n",
       "          ...,\n",
       "          [235,   0,   0],\n",
       "          [234,   0,   0],\n",
       "          [229,   0,   0]]], dtype=uint8),\n",
       "  'captions': ['there is a tiny red cube somewhat close to the right corner in front of a red wall on red floor',\n",
       "   'there is a tiny red cube somewhat close to the right side in front of a red wall on red floor']},\n",
       " 4: {'img': array([[[153, 226, 249],\n",
       "          [153, 226, 249],\n",
       "          [153, 226, 249],\n",
       "          ...,\n",
       "          [153, 226, 249],\n",
       "          [153, 226, 249],\n",
       "          [153, 226, 249]],\n",
       "  \n",
       "         [[153, 226, 249],\n",
       "          [153, 226, 249],\n",
       "          [153, 226, 249],\n",
       "          ...,\n",
       "          [153, 226, 249],\n",
       "          [153, 226, 249],\n",
       "          [153, 226, 249]],\n",
       "  \n",
       "         [[153, 226, 249],\n",
       "          [153, 226, 249],\n",
       "          [153, 226, 249],\n",
       "          ...,\n",
       "          [153, 226, 249],\n",
       "          [153, 226, 249],\n",
       "          [153, 226, 249]],\n",
       "  \n",
       "         ...,\n",
       "  \n",
       "         [[255,   0,   0],\n",
       "          [255,   0,   0],\n",
       "          [255,   0,   0],\n",
       "          ...,\n",
       "          [220,   0,   0],\n",
       "          [223,   0,   0],\n",
       "          [225,   0,   0]],\n",
       "  \n",
       "         [[255,   0,   0],\n",
       "          [255,   0,   0],\n",
       "          [255,   0,   0],\n",
       "          ...,\n",
       "          [226,   0,   0],\n",
       "          [231,   0,   0],\n",
       "          [229,   0,   0]],\n",
       "  \n",
       "         [[255,   0,   0],\n",
       "          [255,   0,   0],\n",
       "          [255,   0,   0],\n",
       "          ...,\n",
       "          [222,   0,   0],\n",
       "          [224,   0,   0],\n",
       "          [228,   0,   0]]], dtype=uint8),\n",
       "  'captions': ['there is a tiny red cube close to the middle in front of a red wall on red floor',\n",
       "   'there is a tiny red cube nearly in the middle in front of a red wall on red floor']},\n",
       " 5: {'img': array([[[153, 226, 249],\n",
       "          [153, 226, 249],\n",
       "          [153, 226, 249],\n",
       "          ...,\n",
       "          [153, 226, 249],\n",
       "          [153, 226, 249],\n",
       "          [153, 226, 249]],\n",
       "  \n",
       "         [[153, 226, 249],\n",
       "          [153, 226, 249],\n",
       "          [153, 226, 249],\n",
       "          ...,\n",
       "          [153, 226, 249],\n",
       "          [153, 226, 249],\n",
       "          [153, 226, 249]],\n",
       "  \n",
       "         [[153, 226, 249],\n",
       "          [153, 226, 249],\n",
       "          [153, 226, 249],\n",
       "          ...,\n",
       "          [153, 226, 249],\n",
       "          [153, 226, 249],\n",
       "          [153, 226, 249]],\n",
       "  \n",
       "         ...,\n",
       "  \n",
       "         [[255,   0,   0],\n",
       "          [255,   0,   0],\n",
       "          [255,   0,   0],\n",
       "          ...,\n",
       "          [217,   0,   0],\n",
       "          [221,   0,   0],\n",
       "          [220,   0,   0]],\n",
       "  \n",
       "         [[255,   0,   0],\n",
       "          [255,   0,   0],\n",
       "          [255,   0,   0],\n",
       "          ...,\n",
       "          [227,   0,   0],\n",
       "          [226,   0,   0],\n",
       "          [222,   0,   0]],\n",
       "  \n",
       "         [[255,   0,   0],\n",
       "          [255,   0,   0],\n",
       "          [255,   0,   0],\n",
       "          ...,\n",
       "          [231,   0,   0],\n",
       "          [229,   0,   0],\n",
       "          [227,   0,   0]]], dtype=uint8),\n",
       "  'captions': ['there is a tiny red cube nearly in the middle in front of a red wall on red floor',\n",
       "   'there is a tiny red cube close to the middle in front of a red wall on red floor']},\n",
       " 6: {'img': array([[[153, 226, 249],\n",
       "          [153, 226, 249],\n",
       "          [153, 226, 249],\n",
       "          ...,\n",
       "          [153, 226, 249],\n",
       "          [153, 226, 249],\n",
       "          [153, 226, 249]],\n",
       "  \n",
       "         [[153, 226, 249],\n",
       "          [153, 226, 249],\n",
       "          [153, 226, 249],\n",
       "          ...,\n",
       "          [153, 226, 249],\n",
       "          [153, 226, 249],\n",
       "          [153, 226, 249]],\n",
       "  \n",
       "         [[153, 226, 249],\n",
       "          [153, 226, 249],\n",
       "          [153, 226, 249],\n",
       "          ...,\n",
       "          [153, 226, 249],\n",
       "          [153, 226, 249],\n",
       "          [153, 226, 249]],\n",
       "  \n",
       "         ...,\n",
       "  \n",
       "         [[255,   0,   0],\n",
       "          [255,   0,   0],\n",
       "          [255,   0,   0],\n",
       "          ...,\n",
       "          [229,   0,   0],\n",
       "          [227,   0,   0],\n",
       "          [225,   0,   0]],\n",
       "  \n",
       "         [[255,   0,   0],\n",
       "          [255,   0,   0],\n",
       "          [255,   0,   0],\n",
       "          ...,\n",
       "          [223,   0,   0],\n",
       "          [222,   0,   0],\n",
       "          [221,   0,   0]],\n",
       "  \n",
       "         [[255,   0,   0],\n",
       "          [255,   0,   0],\n",
       "          [255,   0,   0],\n",
       "          ...,\n",
       "          [225,   0,   0],\n",
       "          [221,   0,   0],\n",
       "          [219,   0,   0]]], dtype=uint8),\n",
       "  'captions': ['there is a tiny red cube in the middle in front of a red wall on red floor',\n",
       "   'there is a tiny red cube in the middle of the room in front of a red wall on red floor']},\n",
       " 7: {'img': array([[[153, 226, 249],\n",
       "          [153, 226, 249],\n",
       "          [153, 226, 249],\n",
       "          ...,\n",
       "          [153, 226, 249],\n",
       "          [153, 226, 249],\n",
       "          [153, 226, 249]],\n",
       "  \n",
       "         [[153, 226, 249],\n",
       "          [153, 226, 249],\n",
       "          [153, 226, 249],\n",
       "          ...,\n",
       "          [153, 226, 249],\n",
       "          [153, 226, 249],\n",
       "          [153, 226, 249]],\n",
       "  \n",
       "         [[153, 226, 249],\n",
       "          [153, 226, 249],\n",
       "          [153, 226, 249],\n",
       "          ...,\n",
       "          [153, 226, 249],\n",
       "          [153, 226, 249],\n",
       "          [153, 226, 249]],\n",
       "  \n",
       "         ...,\n",
       "  \n",
       "         [[255,   0,   0],\n",
       "          [255,   0,   0],\n",
       "          [255,   0,   0],\n",
       "          ...,\n",
       "          [227,   0,   0],\n",
       "          [224,   0,   0],\n",
       "          [222,   0,   0]],\n",
       "  \n",
       "         [[255,   0,   0],\n",
       "          [255,   0,   0],\n",
       "          [255,   0,   0],\n",
       "          ...,\n",
       "          [227,   0,   0],\n",
       "          [225,   0,   0],\n",
       "          [223,   0,   0]],\n",
       "  \n",
       "         [[255,   0,   0],\n",
       "          [255,   0,   0],\n",
       "          [255,   0,   0],\n",
       "          ...,\n",
       "          [225,   0,   0],\n",
       "          [225,   0,   0],\n",
       "          [223,   0,   0]]], dtype=uint8),\n",
       "  'captions': ['there is a tiny red cube in the middle in front of a red wall on red floor',\n",
       "   'there is a tiny red cube in the middle of the room in front of a red wall on red floor']},\n",
       " 8: {'img': array([[[153, 226, 249],\n",
       "          [153, 226, 249],\n",
       "          [153, 226, 249],\n",
       "          ...,\n",
       "          [153, 226, 249],\n",
       "          [153, 226, 249],\n",
       "          [153, 226, 249]],\n",
       "  \n",
       "         [[153, 226, 249],\n",
       "          [153, 226, 249],\n",
       "          [153, 226, 249],\n",
       "          ...,\n",
       "          [153, 226, 249],\n",
       "          [153, 226, 249],\n",
       "          [153, 226, 249]],\n",
       "  \n",
       "         [[153, 226, 249],\n",
       "          [153, 226, 249],\n",
       "          [153, 226, 249],\n",
       "          ...,\n",
       "          [153, 226, 249],\n",
       "          [153, 226, 249],\n",
       "          [153, 226, 249]],\n",
       "  \n",
       "         ...,\n",
       "  \n",
       "         [[255,   0,   0],\n",
       "          [255,   0,   0],\n",
       "          [255,   0,   0],\n",
       "          ...,\n",
       "          [219,   0,   0],\n",
       "          [217,   0,   0],\n",
       "          [216,   0,   0]],\n",
       "  \n",
       "         [[255,   0,   0],\n",
       "          [255,   0,   0],\n",
       "          [255,   0,   0],\n",
       "          ...,\n",
       "          [225,   0,   0],\n",
       "          [222,   0,   0],\n",
       "          [218,   0,   0]],\n",
       "  \n",
       "         [[255,   0,   0],\n",
       "          [255,   0,   0],\n",
       "          [255,   0,   0],\n",
       "          ...,\n",
       "          [224,   0,   0],\n",
       "          [223,   0,   0],\n",
       "          [222,   0,   0]]], dtype=uint8),\n",
       "  'captions': ['there is a tiny red cube in the middle in front of a red wall on red floor',\n",
       "   'there is a tiny red cube in the middle of the room in front of a red wall on red floor']},\n",
       " 9: {'img': array([[[153, 226, 249],\n",
       "          [153, 226, 249],\n",
       "          [153, 226, 249],\n",
       "          ...,\n",
       "          [153, 226, 249],\n",
       "          [153, 226, 249],\n",
       "          [153, 226, 249]],\n",
       "  \n",
       "         [[153, 226, 249],\n",
       "          [153, 226, 249],\n",
       "          [153, 226, 249],\n",
       "          ...,\n",
       "          [153, 226, 249],\n",
       "          [153, 226, 249],\n",
       "          [153, 226, 249]],\n",
       "  \n",
       "         [[153, 226, 249],\n",
       "          [153, 226, 249],\n",
       "          [153, 226, 249],\n",
       "          ...,\n",
       "          [153, 226, 249],\n",
       "          [153, 226, 249],\n",
       "          [153, 226, 249]],\n",
       "  \n",
       "         ...,\n",
       "  \n",
       "         [[255,   0,   0],\n",
       "          [255,   0,   0],\n",
       "          [255,   0,   0],\n",
       "          ...,\n",
       "          [225,   0,   0],\n",
       "          [223,   0,   0],\n",
       "          [221,   0,   0]],\n",
       "  \n",
       "         [[255,   0,   0],\n",
       "          [255,   0,   0],\n",
       "          [255,   0,   0],\n",
       "          ...,\n",
       "          [218,   0,   0],\n",
       "          [218,   0,   0],\n",
       "          [216,   0,   0]],\n",
       "  \n",
       "         [[255,   0,   0],\n",
       "          [255,   0,   0],\n",
       "          [255,   0,   0],\n",
       "          ...,\n",
       "          [220,   0,   0],\n",
       "          [215,   0,   0],\n",
       "          [207,   0,   0]]], dtype=uint8),\n",
       "  'captions': ['there is a tiny red cube nearly in the middle in front of a red wall on red floor',\n",
       "   'there is a tiny red cube close to the middle in front of a red wall on red floor']}}"
      ]
     },
     "execution_count": 22,
     "metadata": {},
     "output_type": "execute_result"
    }
   ],
   "source": [
    "test_ds"
   ]
  },
  {
   "cell_type": "markdown",
   "id": "d8563efb",
   "metadata": {},
   "source": [
    "## Try embedding an image with the off-the-shelf resnet-50\n",
    "\n",
    "The code below exracts image features in the exact same way they are extracted on MS COCO. "
   ]
  },
  {
   "cell_type": "code",
   "execution_count": 2,
   "id": "ce5f7d35",
   "metadata": {},
   "outputs": [],
   "source": [
    "import torch\n",
    "import torchvision\n",
    "from torchvision import datasets as dset\n",
    "from torchvision import transforms as transforms\n",
    "import torch.nn as nn\n",
    "import torchvision.models as models\n",
    "from torch.utils.data import Dataset, DataLoader\n",
    "import os\n",
    "import json\n",
    "from random import shuffle\n",
    "from pycocotools.coco import COCO\n",
    "from PIL import Image\n",
    "import matplotlib.pyplot as plt\n",
    "import pickle\n",
    "from collections import Counter\n",
    "from torchtext.data import get_tokenizer\n",
    "import numpy as np\n",
    "import math\n",
    "import time\n",
    "import sys\n",
    "import re\n",
    "import pandas as pd"
   ]
  },
  {
   "cell_type": "code",
   "execution_count": 13,
   "id": "2eab697e",
   "metadata": {},
   "outputs": [],
   "source": [
    "# speaker visual module\n",
    "class EncoderCNN(nn.Module):\n",
    "    def __init__(self, embed_size):\n",
    "        \"\"\"\n",
    "        Initialize pretrained Resnet 50 for the speaker. \n",
    "        Put a linear layer on top, mapping ResNet features to desired visual embedding dimensionality.\n",
    "        \"\"\"\n",
    "        super(EncoderCNN, self).__init__()\n",
    "        resnet = models.resnet50(pretrained=True)\n",
    "        for param in resnet.parameters():\n",
    "            param.requires_grad_(False)\n",
    "        \n",
    "        # remove the last fully connected layer, adding a Linear one\n",
    "        modules = list(resnet.children())[:-1] \n",
    "        self.resnet = nn.Sequential(*modules)\n",
    "        self.embed = nn.Linear(resnet.fc.in_features, embed_size)\n",
    "        self.embed.weight.data.normal_(0., 0.02)\n",
    "        self.embed.bias.data.fill_(0)\n",
    "        \n",
    "    def forward(self, images):\n",
    "        \"\"\"\n",
    "        Performs a forward step for embedding a batch of images received by the speaker.\n",
    "        Args:\n",
    "        -----\n",
    "            images: torch.tensor((batch_size, 3, 224, 224))\n",
    "            \n",
    "        Returns:\n",
    "        ------\n",
    "            features: torch.tensor((batch_size, visual_embed_size))\n",
    "        \"\"\"\n",
    "        features = self.resnet(images)\n",
    "        # reshape features to shape (batch_size, -1)\n",
    "        features = features.view(features.size(0), -1)\n",
    "        features = self.embed(features)\n",
    "        return features"
   ]
  },
  {
   "cell_type": "code",
   "execution_count": 45,
   "id": "c5906bfe",
   "metadata": {},
   "outputs": [
    {
     "name": "stdout",
     "output_type": "stream",
     "text": [
      "(64, 64, 3)\n"
     ]
    },
    {
     "data": {
      "text/plain": [
       "torch.Size([1, 3, 224, 224])"
      ]
     },
     "execution_count": 45,
     "metadata": {},
     "output_type": "execute_result"
    }
   ],
   "source": [
    "# NB: definitely don't use horizontal flip because we might include spatial descriptions\n",
    "\n",
    "\n",
    "# get some image and put it into (1, 3, 64, 64) torch tensor\n",
    "example_img = images[1000]\n",
    "# img_tensor = np.asarray(np.rollaxis(example_img, 2,0))\n",
    "print(\"Original image shape: \", example_img.shape)\n",
    "\n",
    "transform_train = transforms.Compose([ \n",
    "    transforms.ToPILImage(),\n",
    "    # the step below is upsampling the image\n",
    "    transforms.Resize(256),                          # smaller edge of image resized to 256\n",
    "    transforms.RandomCrop(224),                      # get 224x224 crop from random location\n",
    "#     transforms.RandomHorizontalFlip(),               # horizontally flip image with probability=0.5\n",
    "    transforms.ToTensor(),                           # convert the PIL Image to a tensor\n",
    "    transforms.Normalize((0.485, 0.456, 0.406),      # normalize image for pre-trained model\n",
    "                         (0.229, 0.224, 0.225))])\n",
    "transformed_img = transform_train(example_img)\n",
    "\n",
    "img_tensor_transormed = transformed_img.unsqueeze(0)\n",
    "img_tensor_transormed.shape"
   ]
  },
  {
   "cell_type": "code",
   "execution_count": 38,
   "id": "d35cd11d",
   "metadata": {},
   "outputs": [
    {
     "data": {
      "text/plain": [
       "torch.Size([3, 224, 224])"
      ]
     },
     "execution_count": 38,
     "metadata": {},
     "output_type": "execute_result"
    }
   ],
   "source": [
    "transformed_img.size()"
   ]
  },
  {
   "cell_type": "code",
   "execution_count": 46,
   "id": "24d3dcb1",
   "metadata": {},
   "outputs": [
    {
     "data": {
      "image/png": "[encoded data removed]",
      "text/plain": [
       "<Figure size 432x288 with 1 Axes>"
      ]
     },
     "metadata": {
      "needs_background": "light"
     },
     "output_type": "display_data"
    }
   ],
   "source": [
    "# visualize image before ...\n",
    "plt.imshow(example_img); plt.axis('off'); plt.show()"
   ]
  },
  {
   "cell_type": "code",
   "execution_count": 47,
   "id": "05aae79a",
   "metadata": {},
   "outputs": [
    {
     "name": "stderr",
     "output_type": "stream",
     "text": [
      "Clipping input data to the valid range for imshow with RGB data ([0..1] for floats or [0..255] for integers).\n"
     ]
    },
    {
     "data": {
      "image/png": "[encoded data removed]",
      "text/plain": [
       "<Figure size 432x288 with 1 Axes>"
      ]
     },
     "metadata": {
      "needs_background": "light"
     },
     "output_type": "display_data"
    }
   ],
   "source": [
    "# ... and after transform\n",
    "plt.imshow(img_tensor_transormed.squeeze(0).permute(1, 2, 0)); plt.axis('off'); plt.show()"
   ]
  },
  {
   "cell_type": "code",
   "execution_count": 42,
   "id": "c111cb05",
   "metadata": {},
   "outputs": [
    {
     "data": {
      "text/plain": [
       "torch.Size([1, 1024])"
      ]
     },
     "execution_count": 42,
     "metadata": {},
     "output_type": "execute_result"
    }
   ],
   "source": [
    "\n",
    "encoder = EncoderCNN(1024)\n",
    "features = encoder(img_tensor_transormed)\n",
    "features.shape"
   ]
  },
  {
   "cell_type": "markdown",
   "id": "2da8fa38",
   "metadata": {},
   "source": [
    "### Notes from Hupkes et al compositionality paper\n",
    "* PCFG construction datset\n",
    "* simulation such that one feature (like depths) matches in distribution a natural corpus\n",
    "* PCFG input: unary and binary predicates, string sequence elements, separator\n",
    "* recursive (inf number of sequences)\n",
    "* nesting (parse tree can be arbitrarily long)\n",
    "* naturalization of the dataset through CFG probabilities, input vocab size\n",
    "* the enforce the following properties in the generated dataset: expression length, parse tree depth\n",
    "    * naturalization through EM, such that the PCFG generates expressions generating a matching bivariate distribution\n",
    "* string alphabet size=520, base corpus size = 10.000\n",
    "* controlling for memorization: never the same string arguments\n",
    "----\n",
    "\n",
    "* we need to watch out to not induce any bias in the generated dataset, and to not fail with the evaluation due to some other explanation, like strong compositionality pressure / bias, which cannot be fitted, or something --> like model parsing abilities are going to match Bruni's paper's results here. \n",
    "* induce the weights / probs on an NL dataset (we have an inside-outside implementation for Annika and my work)\n",
    "* the caption lengths distribution should match the one from coco captions, ideally also the rough token distribution\n",
    "* \"productivity\" results: none of the architectures could exhibit productive power to unseen sequence lengths! that is, there are grounds to believe that the disciminativity / detail level of the captions will not vary across my two expriments but will remain close to the training lengths!!! it might be worth exploring if that changes if i add an explicit bias to generate short sequences"
   ]
  },
  {
   "cell_type": "code",
   "execution_count": null,
   "id": "a6109b46",
   "metadata": {},
   "outputs": [],
   "source": [
    "# might sample grammatical structures from some corpus and fill them with the labels"
   ]
  },
  {
   "cell_type": "markdown",
   "id": "774b0e67",
   "metadata": {},
   "source": [
    "## Rough plan\n",
    "\n",
    "Annotate (a part of) MS COCO with POS, parse, in order to:\n",
    "1) extract statistics\n",
    "2) extract grammatical structures and words that we could use\n",
    "3) Maybe make some exploration how similar the sentences are which describe the same image (i.e. the 5 captions) and those describing different images containing the same objects. \n",
    "\n",
    "Create sets of words that we want to insert into the sentences (like features and verbs etc) (=terminal symbols). \n",
    "Write PCFG. Then, two versions of the dataset should probably be compiled: \n",
    "1) One where we have maximally descriptive and detailed captions and, therefore, potentially longer sentences. While providing perfect grounding information, we might induce a strong bias to generate very long sequences. \n",
    "2) One where the probabilities are adapted based on probabilities from MS COCO, and the dataset, therefore, exhibit \"natural\" properties. This should be treated as an \"ideal\" / baseline comparison dataset.\n",
    "\n",
    "The repo for generating the dataset in Hupkes et al (2020) can be found here: https://github.com/MathijsMul/pcfg-set . The base repo can be found here: https://github.com/i-machine-think/am-i-compositional\n"
   ]
  },
  {
   "cell_type": "markdown",
   "id": "8014ee35",
   "metadata": {},
   "source": [
    "## MS COCO preprocessing\n",
    "\n",
    "* Get the MS COCO split on which the speaker was pretrained. \n",
    "* get POS annotations, parse trees"
   ]
  },
  {
   "cell_type": "code",
   "execution_count": 3,
   "id": "ccd5c0cb",
   "metadata": {},
   "outputs": [],
   "source": [
    "ms_ids = torch.load(\"../pretrain_img_IDs.pt\")"
   ]
  },
  {
   "cell_type": "code",
   "execution_count": 4,
   "id": "0c1d7be4",
   "metadata": {},
   "outputs": [
    {
     "name": "stdout",
     "output_type": "stream",
     "text": [
      "loading annotations into memory...\n",
      "Done (t=0.59s)\n",
      "creating index...\n",
      "index created!\n"
     ]
    }
   ],
   "source": [
    "# load annotations from these keys\n",
    "coco = COCO(\"../../../data/train/annotations/captions_train2014.json\")"
   ]
  },
  {
   "cell_type": "code",
   "execution_count": 5,
   "id": "8b800a7d",
   "metadata": {},
   "outputs": [],
   "source": [
    "# coco.anns.keys()\n",
    "# get target captions\n",
    "all_caps = [coco.anns[idx]['caption'] for idx in ms_ids.numpy().tolist()]"
   ]
  },
  {
   "cell_type": "code",
   "execution_count": 6,
   "id": "ed74abb8",
   "metadata": {},
   "outputs": [
    {
     "data": {
      "text/plain": [
       "['There are many birds flying near the boat. ',\n",
       " 'Oranges in packaged rope about to be bought or sold',\n",
       " 'A man with a tennis racket on a tennis court.',\n",
       " 'A group of small birds on a wooden dock.',\n",
       " 'A girl trying to open an umbrella while another girl looks at the camera smiling.']"
      ]
     },
     "execution_count": 6,
     "metadata": {},
     "output_type": "execute_result"
    }
   ],
   "source": [
    "all_caps[:5]"
   ]
  },
  {
   "cell_type": "code",
   "execution_count": 7,
   "id": "1a3256cd",
   "metadata": {},
   "outputs": [],
   "source": [
    "# we can use nltk or stanfordnlp to POS-tag\n",
    "# import stanfordnlp\n",
    "from nltk import pos_tag, word_tokenize"
   ]
  },
  {
   "cell_type": "code",
   "execution_count": 8,
   "id": "cb77f6d6",
   "metadata": {},
   "outputs": [
    {
     "data": {
      "text/plain": [
       "70000"
      ]
     },
     "execution_count": 8,
     "metadata": {},
     "output_type": "execute_result"
    }
   ],
   "source": [
    "pos_list = [pos_tag(word_tokenize(sent)) for sent in all_caps]\n",
    "len(pos_list)"
   ]
  },
  {
   "cell_type": "code",
   "execution_count": 9,
   "id": "c4dfb38a",
   "metadata": {},
   "outputs": [],
   "source": [
    "pos_list_flat = [i for l in pos_list for i in l]"
   ]
  },
  {
   "cell_type": "code",
   "execution_count": 10,
   "id": "b214b4b2",
   "metadata": {},
   "outputs": [
    {
     "data": {
      "text/html": [
       "<div>\n",
       "<style scoped>\n",
       "    .dataframe tbody tr th:only-of-type {\n",
       "        vertical-align: middle;\n",
       "    }\n",
       "\n",
       "    .dataframe tbody tr th {\n",
       "        vertical-align: top;\n",
       "    }\n",
       "\n",
       "    .dataframe thead th {\n",
       "        text-align: right;\n",
       "    }\n",
       "</style>\n",
       "<table border=\"1\" class=\"dataframe\">\n",
       "  <thead>\n",
       "    <tr style=\"text-align: right;\">\n",
       "      <th></th>\n",
       "      <th>raw_captions</th>\n",
       "      <th>POS</th>\n",
       "    </tr>\n",
       "  </thead>\n",
       "  <tbody>\n",
       "    <tr>\n",
       "      <th>0</th>\n",
       "      <td>There are many birds flying near the boat.</td>\n",
       "      <td>[(There, EX), (are, VBP), (many, JJ), (birds, ...</td>\n",
       "    </tr>\n",
       "    <tr>\n",
       "      <th>1</th>\n",
       "      <td>Oranges in packaged rope about to be bought or...</td>\n",
       "      <td>[(Oranges, NNS), (in, IN), (packaged, VBN), (r...</td>\n",
       "    </tr>\n",
       "    <tr>\n",
       "      <th>2</th>\n",
       "      <td>A man with a tennis racket on a tennis court.</td>\n",
       "      <td>[(A, DT), (man, NN), (with, IN), (a, DT), (ten...</td>\n",
       "    </tr>\n",
       "    <tr>\n",
       "      <th>3</th>\n",
       "      <td>A group of small birds on a wooden dock.</td>\n",
       "      <td>[(A, DT), (group, NN), (of, IN), (small, JJ), ...</td>\n",
       "    </tr>\n",
       "    <tr>\n",
       "      <th>4</th>\n",
       "      <td>A girl trying to open an umbrella while anothe...</td>\n",
       "      <td>[(A, DT), (girl, NN), (trying, VBG), (to, TO),...</td>\n",
       "    </tr>\n",
       "  </tbody>\n",
       "</table>\n",
       "</div>"
      ],
      "text/plain": [
       "                                        raw_captions  \\\n",
       "0        There are many birds flying near the boat.    \n",
       "1  Oranges in packaged rope about to be bought or...   \n",
       "2      A man with a tennis racket on a tennis court.   \n",
       "3           A group of small birds on a wooden dock.   \n",
       "4  A girl trying to open an umbrella while anothe...   \n",
       "\n",
       "                                                 POS  \n",
       "0  [(There, EX), (are, VBP), (many, JJ), (birds, ...  \n",
       "1  [(Oranges, NNS), (in, IN), (packaged, VBN), (r...  \n",
       "2  [(A, DT), (man, NN), (with, IN), (a, DT), (ten...  \n",
       "3  [(A, DT), (group, NN), (of, IN), (small, JJ), ...  \n",
       "4  [(A, DT), (girl, NN), (trying, VBG), (to, TO),...  "
      ]
     },
     "execution_count": 10,
     "metadata": {},
     "output_type": "execute_result"
    }
   ],
   "source": [
    "df = pd.DataFrame({\"raw_captions\": all_caps, \"POS\": pos_list})\n",
    "df.head()"
   ]
  },
  {
   "cell_type": "code",
   "execution_count": 11,
   "id": "2ab42c85",
   "metadata": {},
   "outputs": [],
   "source": [
    "def get_pos_str(cap):\n",
    "    pos_str = \" \".join([x[1] for x in cap])\n",
    "    return pos_str\n",
    "\n",
    "df[\"POS_clean\"] = df[\"POS\"].apply(get_pos_str)"
   ]
  },
  {
   "cell_type": "code",
   "execution_count": 12,
   "id": "dfeb6453",
   "metadata": {},
   "outputs": [
    {
     "data": {
      "text/html": [
       "<div>\n",
       "<style scoped>\n",
       "    .dataframe tbody tr th:only-of-type {\n",
       "        vertical-align: middle;\n",
       "    }\n",
       "\n",
       "    .dataframe tbody tr th {\n",
       "        vertical-align: top;\n",
       "    }\n",
       "\n",
       "    .dataframe thead th {\n",
       "        text-align: right;\n",
       "    }\n",
       "</style>\n",
       "<table border=\"1\" class=\"dataframe\">\n",
       "  <thead>\n",
       "    <tr style=\"text-align: right;\">\n",
       "      <th></th>\n",
       "      <th>raw_captions</th>\n",
       "      <th>POS</th>\n",
       "      <th>POS_clean</th>\n",
       "    </tr>\n",
       "  </thead>\n",
       "  <tbody>\n",
       "    <tr>\n",
       "      <th>0</th>\n",
       "      <td>There are many birds flying near the boat.</td>\n",
       "      <td>[(There, EX), (are, VBP), (many, JJ), (birds, ...</td>\n",
       "      <td>EX VBP JJ NNS VBG IN DT NN .</td>\n",
       "    </tr>\n",
       "    <tr>\n",
       "      <th>1</th>\n",
       "      <td>Oranges in packaged rope about to be bought or...</td>\n",
       "      <td>[(Oranges, NNS), (in, IN), (packaged, VBN), (r...</td>\n",
       "      <td>NNS IN VBN NN IN TO VB VBN CC VBN</td>\n",
       "    </tr>\n",
       "    <tr>\n",
       "      <th>2</th>\n",
       "      <td>A man with a tennis racket on a tennis court.</td>\n",
       "      <td>[(A, DT), (man, NN), (with, IN), (a, DT), (ten...</td>\n",
       "      <td>DT NN IN DT NN NN IN DT NN NN .</td>\n",
       "    </tr>\n",
       "    <tr>\n",
       "      <th>3</th>\n",
       "      <td>A group of small birds on a wooden dock.</td>\n",
       "      <td>[(A, DT), (group, NN), (of, IN), (small, JJ), ...</td>\n",
       "      <td>DT NN IN JJ NNS IN DT JJ NN .</td>\n",
       "    </tr>\n",
       "    <tr>\n",
       "      <th>4</th>\n",
       "      <td>A girl trying to open an umbrella while anothe...</td>\n",
       "      <td>[(A, DT), (girl, NN), (trying, VBG), (to, TO),...</td>\n",
       "      <td>DT NN VBG TO VB DT NN IN DT NN VBZ IN DT NN NN .</td>\n",
       "    </tr>\n",
       "  </tbody>\n",
       "</table>\n",
       "</div>"
      ],
      "text/plain": [
       "                                        raw_captions  \\\n",
       "0        There are many birds flying near the boat.    \n",
       "1  Oranges in packaged rope about to be bought or...   \n",
       "2      A man with a tennis racket on a tennis court.   \n",
       "3           A group of small birds on a wooden dock.   \n",
       "4  A girl trying to open an umbrella while anothe...   \n",
       "\n",
       "                                                 POS  \\\n",
       "0  [(There, EX), (are, VBP), (many, JJ), (birds, ...   \n",
       "1  [(Oranges, NNS), (in, IN), (packaged, VBN), (r...   \n",
       "2  [(A, DT), (man, NN), (with, IN), (a, DT), (ten...   \n",
       "3  [(A, DT), (group, NN), (of, IN), (small, JJ), ...   \n",
       "4  [(A, DT), (girl, NN), (trying, VBG), (to, TO),...   \n",
       "\n",
       "                                          POS_clean  \n",
       "0                      EX VBP JJ NNS VBG IN DT NN .  \n",
       "1                 NNS IN VBN NN IN TO VB VBN CC VBN  \n",
       "2                   DT NN IN DT NN NN IN DT NN NN .  \n",
       "3                     DT NN IN JJ NNS IN DT JJ NN .  \n",
       "4  DT NN VBG TO VB DT NN IN DT NN VBZ IN DT NN NN .  "
      ]
     },
     "execution_count": 12,
     "metadata": {},
     "output_type": "execute_result"
    }
   ],
   "source": [
    "# df.to_csv(\"../../../data/ms_coco_pretrain_caps_POS-tagged.csv\")\n",
    "df.head()"
   ]
  },
  {
   "cell_type": "code",
   "execution_count": 13,
   "id": "c416ec9a",
   "metadata": {},
   "outputs": [],
   "source": [
    "# get a count of the POS tags\n",
    "pos_word_counts = Counter(pos_list_flat)\n",
    "pos_word_counts_desc = sorted(pos_word_counts.items(), key=lambda item: item[1], reverse = True)\n",
    "# get flat list of POS without words\n",
    "pos_counts_flat = [x[1] for x in pos_list_flat]\n",
    "pos_counts_desc = sorted(Counter(pos_counts_flat).items(), key=lambda item: item[1], reverse = True)"
   ]
  },
  {
   "cell_type": "code",
   "execution_count": 87,
   "id": "7a65c268",
   "metadata": {},
   "outputs": [
    {
     "name": "stdout",
     "output_type": "stream",
     "text": [
      "Number of POS tags used:  43\n"
     ]
    },
    {
     "data": {
      "text/plain": [
       "[('NN', 210187),\n",
       " ('DT', 150001),\n",
       " ('IN', 116613),\n",
       " ('JJ', 58254),\n",
       " ('.', 52562),\n",
       " ('NNS', 42775),\n",
       " ('VBG', 42265),\n",
       " ('VBZ', 19144),\n",
       " ('CC', 16751),\n",
       " ('NNP', 9616)]"
      ]
     },
     "execution_count": 87,
     "metadata": {},
     "output_type": "execute_result"
    }
   ],
   "source": [
    "print(\"Number of POS tags used: \", len(pos_counts_desc))\n",
    "pos_counts_desc[:10]"
   ]
  },
  {
   "cell_type": "code",
   "execution_count": 80,
   "id": "e8e63288",
   "metadata": {},
   "outputs": [
    {
     "data": {
      "image/png": "[encoded data removed]",
      "text/plain": [
       "<Figure size 432x288 with 1 Axes>"
      ]
     },
     "metadata": {
      "needs_background": "light"
     },
     "output_type": "display_data"
    }
   ],
   "source": [
    "# plot counts of tag occurences\n",
    "plt.plot([x[0] for x in pos_counts_desc], [x[1] for x in pos_counts_desc])\n",
    "plt.xticks(rotation=75)\n",
    "plt.show()"
   ]
  },
  {
   "cell_type": "code",
   "execution_count": 14,
   "id": "5d607519",
   "metadata": {},
   "outputs": [
    {
     "name": "stdout",
     "output_type": "stream",
     "text": [
      "Number of unique syntactic structures:  51517\n"
     ]
    },
    {
     "data": {
      "text/plain": [
       "[('DT NN VBG IN DT NN IN DT NN .', 158),\n",
       " ('DT NN VBG DT NN IN DT NN .', 144),\n",
       " ('DT NN WDT VBZ VBG IN DT NN .', 135),\n",
       " ('DT NN IN DT NN IN DT NN .', 128),\n",
       " ('DT NN VBZ VBG IN DT NN IN DT NN .', 105),\n",
       " ('DT NN VBZ VBG DT NN IN DT NN .', 103),\n",
       " ('DT NN IN NNS VBG IN DT NN .', 91),\n",
       " ('DT JJ NN IN DT NN IN DT NN .', 84),\n",
       " ('DT NN VBG DT NN NN IN DT NN .', 72),\n",
       " ('DT NN VBZ VBG IN DT JJ NN .', 72)]"
      ]
     },
     "execution_count": 14,
     "metadata": {},
     "output_type": "execute_result"
    }
   ],
   "source": [
    "# count the distinct syntactic structures:\n",
    "pos_strings_count = sorted(Counter(df[\"POS_clean\"]).items(), key=lambda item: item[1], reverse = True)\n",
    "print(\"Number of unique syntactic structures: \", len(pos_strings_count))\n",
    "pos_strings_count[:10]"
   ]
  },
  {
   "cell_type": "code",
   "execution_count": 15,
   "id": "91183121",
   "metadata": {},
   "outputs": [
    {
     "data": {
      "image/png": "[encoded data removed]",
      "text/plain": [
       "<Figure size 432x288 with 1 Axes>"
      ]
     },
     "metadata": {
      "needs_background": "light"
     },
     "output_type": "display_data"
    }
   ],
   "source": [
    "# explore average sentence length (not quite parse tree depth, but also important)\n",
    "pos_lengths = [len(lst) for lst in pos_list]\n",
    "pos_lengths_counter = sorted(Counter(pos_lengths).items(), key=lambda item: item[0], reverse = False)\n",
    "\n",
    "# plot lengths distribution\n",
    "plt.plot([x[0] for x in pos_lengths_counter], [x[1] for x in pos_lengths_counter])\n",
    "# plt.xticks(rotation=75)\n",
    "plt.show()"
   ]
  },
  {
   "cell_type": "code",
   "execution_count": 21,
   "id": "3a2dd6c9",
   "metadata": {},
   "outputs": [
    {
     "data": {
      "application/vnd.jupyter.widget-view+json": {
       "model_id": "d722dce1e8dc458e997b17af500406d8",
       "version_major": 2,
       "version_minor": 0
      },
      "text/plain": [
       "Downloading https://raw.githubusercontent.com/stanfordnlp/stanza-resources/main/resources_1.4.0.json:   0%|   …"
      ]
     },
     "metadata": {},
     "output_type": "display_data"
    },
    {
     "name": "stderr",
     "output_type": "stream",
     "text": [
      "2022-04-26 22:26:19 WARNING: Can not find mwt: default from official model list. Ignoring it.\n",
      "2022-04-26 22:26:19 INFO: Loading these models for language: en (English):\n",
      "========================\n",
      "| Processor | Package  |\n",
      "------------------------\n",
      "| tokenize  | combined |\n",
      "| pos       | combined |\n",
      "| lemma     | combined |\n",
      "| depparse  | combined |\n",
      "========================\n",
      "\n",
      "2022-04-26 22:26:19 INFO: Use device: cpu\n",
      "2022-04-26 22:26:19 INFO: Loading: tokenize\n",
      "2022-04-26 22:26:19 INFO: Loading: pos\n",
      "2022-04-26 22:26:20 INFO: Loading: lemma\n",
      "2022-04-26 22:26:20 INFO: Loading: depparse\n",
      "2022-04-26 22:26:20 INFO: Done loading processors!\n"
     ]
    }
   ],
   "source": [
    "import stanza # https://stanfordnlp.github.io/stanza/depparse.html\n",
    "\n",
    "nlp = stanza.Pipeline('en', processors='depparse,tokenize, mwt, pos, lemma')"
   ]
  },
  {
   "cell_type": "code",
   "execution_count": 30,
   "id": "58db4a84",
   "metadata": {},
   "outputs": [],
   "source": [
    "# parse an example sentence\n",
    "parsed_sents = nlp(all_caps[0])"
   ]
  },
  {
   "cell_type": "code",
   "execution_count": 31,
   "id": "221d7cb5",
   "metadata": {},
   "outputs": [
    {
     "data": {
      "text/plain": [
       "[{\n",
       "   \"id\": 1,\n",
       "   \"text\": \"There\",\n",
       "   \"lemma\": \"there\",\n",
       "   \"upos\": \"PRON\",\n",
       "   \"xpos\": \"EX\",\n",
       "   \"head\": 2,\n",
       "   \"deprel\": \"expl\",\n",
       "   \"start_char\": 0,\n",
       "   \"end_char\": 5\n",
       " },\n",
       " {\n",
       "   \"id\": 2,\n",
       "   \"text\": \"are\",\n",
       "   \"lemma\": \"be\",\n",
       "   \"upos\": \"VERB\",\n",
       "   \"xpos\": \"VBP\",\n",
       "   \"feats\": \"Mood=Ind|Number=Plur|Person=3|Tense=Pres|VerbForm=Fin\",\n",
       "   \"head\": 0,\n",
       "   \"deprel\": \"root\",\n",
       "   \"start_char\": 6,\n",
       "   \"end_char\": 9\n",
       " },\n",
       " {\n",
       "   \"id\": 3,\n",
       "   \"text\": \"many\",\n",
       "   \"lemma\": \"many\",\n",
       "   \"upos\": \"ADJ\",\n",
       "   \"xpos\": \"JJ\",\n",
       "   \"feats\": \"Degree=Pos\",\n",
       "   \"head\": 4,\n",
       "   \"deprel\": \"amod\",\n",
       "   \"start_char\": 10,\n",
       "   \"end_char\": 14\n",
       " },\n",
       " {\n",
       "   \"id\": 4,\n",
       "   \"text\": \"birds\",\n",
       "   \"lemma\": \"bird\",\n",
       "   \"upos\": \"NOUN\",\n",
       "   \"xpos\": \"NNS\",\n",
       "   \"feats\": \"Number=Plur\",\n",
       "   \"head\": 2,\n",
       "   \"deprel\": \"nsubj\",\n",
       "   \"start_char\": 15,\n",
       "   \"end_char\": 20\n",
       " },\n",
       " {\n",
       "   \"id\": 5,\n",
       "   \"text\": \"flying\",\n",
       "   \"lemma\": \"fly\",\n",
       "   \"upos\": \"VERB\",\n",
       "   \"xpos\": \"VBG\",\n",
       "   \"feats\": \"VerbForm=Ger\",\n",
       "   \"head\": 4,\n",
       "   \"deprel\": \"acl\",\n",
       "   \"start_char\": 21,\n",
       "   \"end_char\": 27\n",
       " },\n",
       " {\n",
       "   \"id\": 6,\n",
       "   \"text\": \"near\",\n",
       "   \"lemma\": \"near\",\n",
       "   \"upos\": \"ADP\",\n",
       "   \"xpos\": \"IN\",\n",
       "   \"head\": 8,\n",
       "   \"deprel\": \"case\",\n",
       "   \"start_char\": 28,\n",
       "   \"end_char\": 32\n",
       " },\n",
       " {\n",
       "   \"id\": 7,\n",
       "   \"text\": \"the\",\n",
       "   \"lemma\": \"the\",\n",
       "   \"upos\": \"DET\",\n",
       "   \"xpos\": \"DT\",\n",
       "   \"feats\": \"Definite=Def|PronType=Art\",\n",
       "   \"head\": 8,\n",
       "   \"deprel\": \"det\",\n",
       "   \"start_char\": 33,\n",
       "   \"end_char\": 36\n",
       " },\n",
       " {\n",
       "   \"id\": 8,\n",
       "   \"text\": \"boat\",\n",
       "   \"lemma\": \"boat\",\n",
       "   \"upos\": \"NOUN\",\n",
       "   \"xpos\": \"NN\",\n",
       "   \"feats\": \"Number=Sing\",\n",
       "   \"head\": 5,\n",
       "   \"deprel\": \"obl\",\n",
       "   \"start_char\": 37,\n",
       "   \"end_char\": 41\n",
       " },\n",
       " {\n",
       "   \"id\": 9,\n",
       "   \"text\": \".\",\n",
       "   \"lemma\": \".\",\n",
       "   \"upos\": \"PUNCT\",\n",
       "   \"xpos\": \".\",\n",
       "   \"head\": 2,\n",
       "   \"deprel\": \"punct\",\n",
       "   \"start_char\": 41,\n",
       "   \"end_char\": 42\n",
       " }]"
      ]
     },
     "execution_count": 31,
     "metadata": {},
     "output_type": "execute_result"
    }
   ],
   "source": [
    "parsed_sents.sentences[0].words"
   ]
  },
  {
   "cell_type": "code",
   "execution_count": 27,
   "id": "dfc28e66",
   "metadata": {},
   "outputs": [
    {
     "name": "stdout",
     "output_type": "stream",
     "text": [
      "id: 1\tword: There\thead id: 2\thead: are\tdeprel: expl\n",
      "id: 2\tword: are\thead id: 0\thead: root\tdeprel: root\n",
      "id: 3\tword: many\thead id: 4\thead: birds\tdeprel: amod\n",
      "id: 4\tword: birds\thead id: 2\thead: are\tdeprel: nsubj\n",
      "id: 5\tword: flying\thead id: 4\thead: birds\tdeprel: acl\n",
      "id: 6\tword: near\thead id: 8\thead: boat\tdeprel: case\n",
      "id: 7\tword: the\thead id: 8\thead: boat\tdeprel: det\n",
      "id: 8\tword: boat\thead id: 5\thead: flying\tdeprel: obl\n",
      "id: 9\tword: .\thead id: 2\thead: are\tdeprel: punct\n"
     ]
    }
   ],
   "source": [
    "print(*[f'id: {word.id}\\tword: {word.text}\\thead id: {word.head}\\thead: {sent.words[word.head-1].text if word.head > 0 else \"root\"}\\tdeprel: {word.deprel}' for sent in parsed_sents.sentences for word in sent.words], sep='\\n')"
   ]
  },
  {
   "cell_type": "code",
   "execution_count": null,
   "id": "f7f0708d",
   "metadata": {},
   "outputs": [],
   "source": [
    "# TODO: find a way to compute parse tree depth"
   ]
  }
 ],
 "metadata": {
  "kernelspec": {
   "display_name": "msc-thesis",
   "language": "python",
   "name": "msc-thesis"
  },
  "language_info": {
   "codemirror_mode": {
    "name": "ipython",
    "version": 3
   },
   "file_extension": ".py",
   "mimetype": "text/x-python",
   "name": "python",
   "nbconvert_exporter": "python",
   "pygments_lexer": "ipython3",
   "version": "3.7.11"
  }
 },
 "nbformat": 4,
 "nbformat_minor": 5
}
